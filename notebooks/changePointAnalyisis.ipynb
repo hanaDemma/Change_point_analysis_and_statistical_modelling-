{
  "cells": [
    {
      "cell_type": "code",
      "execution_count": 1,
      "metadata": {
        "id": "ohYn1i7wm_4z"
      },
      "outputs": [],
      "source": [
        "import pandas as pd\n",
        "import numpy as np\n",
        "import matplotlib.pyplot as plt\n",
        "import seaborn as sns\n",
        "from statsmodels.tsa.arima.model import ARIMA\n",
        "from statsmodels.tsa.stattools import adfuller\n",
        "from arch import arch_model\n",
        "from pmdarima import auto_arima\n",
        "from ruptures import Binseg\n",
        "import statsmodels.api as sm\n",
        "import tensorflow as tf\n",
        "from tensorflow.keras.models import Sequential\n",
        "from tensorflow.keras.layers import LSTM, Dense\n",
        "from sklearn.preprocessing import MinMaxScaler\n",
        "\n",
        "import os\n",
        "import sys\n",
        "\n",
        "parent_dir = os.path.abspath(os.path.join(os.getcwd(), os.pardir))\n",
        "\n",
        "sys.path.append(parent_dir)"
      ]
    },
    {
      "cell_type": "code",
      "execution_count": 2,
      "metadata": {
        "id": "bvd2SPl3m_40"
      },
      "outputs": [],
      "source": [
        "import os\n",
        "os.chdir('..')\n",
        "import warnings\n",
        "warnings.filterwarnings('ignore')"
      ]
    },
    {
      "cell_type": "markdown",
      "metadata": {
        "id": "lMugob1Tm_41"
      },
      "source": [
        ">>> ### Load Dataset"
      ]
    },
    {
      "cell_type": "code",
      "execution_count": 3,
      "metadata": {
        "id": "QLk7t3KIm_43"
      },
      "outputs": [],
      "source": [
        "from scripts.data_loader import loadData\n",
        "price_data=loadData()\n"
      ]
    },
    {
      "cell_type": "markdown",
      "metadata": {
        "id": "U-OXjFrBm_43"
      },
      "source": [
        ">>> # Understanding The Data"
      ]
    },
    {
      "cell_type": "code",
      "execution_count": 4,
      "metadata": {
        "colab": {
          "base_uri": "https://localhost:8080/",
          "height": 141
        },
        "id": "0Sz8AVT2m_43",
        "outputId": "69fcd8a5-37d9-4b27-a980-10e614ea6bfc"
      },
      "outputs": [
        {
          "data": {
            "text/html": [
              "<div>\n",
              "<style scoped>\n",
              "    .dataframe tbody tr th:only-of-type {\n",
              "        vertical-align: middle;\n",
              "    }\n",
              "\n",
              "    .dataframe tbody tr th {\n",
              "        vertical-align: top;\n",
              "    }\n",
              "\n",
              "    .dataframe thead th {\n",
              "        text-align: right;\n",
              "    }\n",
              "</style>\n",
              "<table border=\"1\" class=\"dataframe\">\n",
              "  <thead>\n",
              "    <tr style=\"text-align: right;\">\n",
              "      <th></th>\n",
              "      <th>Date</th>\n",
              "      <th>Price</th>\n",
              "    </tr>\n",
              "  </thead>\n",
              "  <tbody>\n",
              "    <tr>\n",
              "      <th>0</th>\n",
              "      <td>20-May-87</td>\n",
              "      <td>18.63</td>\n",
              "    </tr>\n",
              "    <tr>\n",
              "      <th>1</th>\n",
              "      <td>21-May-87</td>\n",
              "      <td>18.45</td>\n",
              "    </tr>\n",
              "    <tr>\n",
              "      <th>2</th>\n",
              "      <td>22-May-87</td>\n",
              "      <td>18.55</td>\n",
              "    </tr>\n",
              "    <tr>\n",
              "      <th>3</th>\n",
              "      <td>25-May-87</td>\n",
              "      <td>18.60</td>\n",
              "    </tr>\n",
              "    <tr>\n",
              "      <th>4</th>\n",
              "      <td>26-May-87</td>\n",
              "      <td>18.63</td>\n",
              "    </tr>\n",
              "  </tbody>\n",
              "</table>\n",
              "</div>"
            ],
            "text/plain": [
              "        Date  Price\n",
              "0  20-May-87  18.63\n",
              "1  21-May-87  18.45\n",
              "2  22-May-87  18.55\n",
              "3  25-May-87  18.60\n",
              "4  26-May-87  18.63"
            ]
          },
          "execution_count": 4,
          "metadata": {},
          "output_type": "execute_result"
        }
      ],
      "source": [
        "price_data.head()"
      ]
    },
    {
      "cell_type": "markdown",
      "metadata": {
        "id": "TvAQE6U2m_44"
      },
      "source": [
        "### Find the information of the dataset"
      ]
    },
    {
      "cell_type": "code",
      "execution_count": 5,
      "metadata": {
        "colab": {
          "base_uri": "https://localhost:8080/",
          "height": 141
        },
        "id": "1lsNheBem_44",
        "outputId": "e118fba3-bf57-40af-981f-f85584f06176"
      },
      "outputs": [
        {
          "name": "stdout",
          "output_type": "stream",
          "text": [
            "<class 'pandas.core.frame.DataFrame'>\n",
            "RangeIndex: 9011 entries, 0 to 9010\n",
            "Data columns (total 2 columns):\n",
            " #   Column  Non-Null Count  Dtype  \n",
            "---  ------  --------------  -----  \n",
            " 0   Date    9011 non-null   object \n",
            " 1   Price   9011 non-null   float64\n",
            "dtypes: float64(1), object(1)\n",
            "memory usage: 140.9+ KB\n"
          ]
        }
      ],
      "source": [
        "price_data.info()"
      ]
    },
    {
      "cell_type": "code",
      "execution_count": 6,
      "metadata": {
        "id": "MvWmlX-6m_45",
        "outputId": "a08c2fbc-d3c6-4e17-d2b9-680eaf14fb9c"
      },
      "outputs": [
        {
          "name": "stdout",
          "output_type": "stream",
          "text": [
            "minimum value = 01-Apr-02\n",
            "maximum value = Sep 30, 2022\n"
          ]
        }
      ],
      "source": [
        "print(f\"minimum value = {price_data['Date'].min()}\")\n",
        "print(f\"maximum value = {price_data['Date'].max()}\")"
      ]
    },
    {
      "cell_type": "code",
      "execution_count": 7,
      "metadata": {
        "id": "VHMopNIQm_45",
        "outputId": "1cdeda71-93e3-4ded-c7a0-97e01ee84857"
      },
      "outputs": [
        {
          "data": {
            "text/plain": [
              "Date      object\n",
              "Price    float64\n",
              "dtype: object"
            ]
          },
          "execution_count": 7,
          "metadata": {},
          "output_type": "execute_result"
        }
      ],
      "source": [
        "price_data.dtypes"
      ]
    },
    {
      "cell_type": "code",
      "execution_count": 8,
      "metadata": {
        "id": "rLF8KvYXm_45",
        "outputId": "c37b174d-e9ec-44da-dbf6-00670090e2e3"
      },
      "outputs": [
        {
          "data": {
            "text/html": [
              "<div>\n",
              "<style scoped>\n",
              "    .dataframe tbody tr th:only-of-type {\n",
              "        vertical-align: middle;\n",
              "    }\n",
              "\n",
              "    .dataframe tbody tr th {\n",
              "        vertical-align: top;\n",
              "    }\n",
              "\n",
              "    .dataframe thead th {\n",
              "        text-align: right;\n",
              "    }\n",
              "</style>\n",
              "<table border=\"1\" class=\"dataframe\">\n",
              "  <thead>\n",
              "    <tr style=\"text-align: right;\">\n",
              "      <th></th>\n",
              "      <th>Price</th>\n",
              "    </tr>\n",
              "  </thead>\n",
              "  <tbody>\n",
              "    <tr>\n",
              "      <th>count</th>\n",
              "      <td>9011.000000</td>\n",
              "    </tr>\n",
              "    <tr>\n",
              "      <th>mean</th>\n",
              "      <td>48.420782</td>\n",
              "    </tr>\n",
              "    <tr>\n",
              "      <th>std</th>\n",
              "      <td>32.860110</td>\n",
              "    </tr>\n",
              "    <tr>\n",
              "      <th>min</th>\n",
              "      <td>9.100000</td>\n",
              "    </tr>\n",
              "    <tr>\n",
              "      <th>25%</th>\n",
              "      <td>19.050000</td>\n",
              "    </tr>\n",
              "    <tr>\n",
              "      <th>50%</th>\n",
              "      <td>38.570000</td>\n",
              "    </tr>\n",
              "    <tr>\n",
              "      <th>75%</th>\n",
              "      <td>70.090000</td>\n",
              "    </tr>\n",
              "    <tr>\n",
              "      <th>max</th>\n",
              "      <td>143.950000</td>\n",
              "    </tr>\n",
              "  </tbody>\n",
              "</table>\n",
              "</div>"
            ],
            "text/plain": [
              "             Price\n",
              "count  9011.000000\n",
              "mean     48.420782\n",
              "std      32.860110\n",
              "min       9.100000\n",
              "25%      19.050000\n",
              "50%      38.570000\n",
              "75%      70.090000\n",
              "max     143.950000"
            ]
          },
          "execution_count": 8,
          "metadata": {},
          "output_type": "execute_result"
        }
      ],
      "source": [
        "price_data.describe()"
      ]
    },
    {
      "cell_type": "markdown",
      "metadata": {
        "id": "PMpao4zWm_46"
      },
      "source": [
        "### Check missing value"
      ]
    },
    {
      "cell_type": "code",
      "execution_count": 9,
      "metadata": {
        "id": "A9EevJY9m_46",
        "outputId": "9d5cd513-4acb-4f8f-987d-9a73472146f0"
      },
      "outputs": [
        {
          "data": {
            "text/plain": [
              "Date     0\n",
              "Price    0\n",
              "dtype: int64"
            ]
          },
          "execution_count": 9,
          "metadata": {},
          "output_type": "execute_result"
        }
      ],
      "source": [
        "price_data.isna().sum()"
      ]
    },
    {
      "cell_type": "code",
      "execution_count": 10,
      "metadata": {
        "id": "4yaiN96em_46",
        "outputId": "864c2f99-a545-4067-cc82-381f93b5cd1e"
      },
      "outputs": [
        {
          "name": "stdout",
          "output_type": "stream",
          "text": [
            "0    1987\n",
            "1    1987\n",
            "2    1987\n",
            "3    1987\n",
            "4    1987\n",
            "Name: year, dtype: int32\n"
          ]
        }
      ],
      "source": [
        "price_data['year'] = pd.to_datetime(price_data['Date']).dt.year\n",
        "print(price_data['year'].head())"
      ]
    },
    {
      "cell_type": "code",
      "execution_count": 11,
      "metadata": {
        "id": "8gEHrgXYm_46",
        "outputId": "7fc7044c-4a48-4c14-875b-cb8223ee16f5"
      },
      "outputs": [
        {
          "data": {
            "text/plain": [
              "count    9011.000000\n",
              "mean     2004.612030\n",
              "std        10.260414\n",
              "min      1987.000000\n",
              "25%      1996.000000\n",
              "50%      2005.000000\n",
              "75%      2014.000000\n",
              "max      2022.000000\n",
              "Name: year, dtype: float64"
            ]
          },
          "execution_count": 11,
          "metadata": {},
          "output_type": "execute_result"
        }
      ],
      "source": [
        "price_data['year'].describe()"
      ]
    },
    {
      "cell_type": "code",
      "execution_count": 12,
      "metadata": {
        "id": "TZRmA3u-m_46",
        "outputId": "df386b75-330b-4a8b-d1fe-c7224c7b2265"
      },
      "outputs": [
        {
          "data": {
            "text/plain": [
              "0"
            ]
          },
          "execution_count": 12,
          "metadata": {},
          "output_type": "execute_result"
        }
      ],
      "source": [
        "price_data['year'].isna().sum()"
      ]
    },
    {
      "cell_type": "code",
      "execution_count": 13,
      "metadata": {
        "id": "xmMl_3v4m_47"
      },
      "outputs": [],
      "source": [
        "price_data['Date'] = pd.to_datetime(price_data['Date'])"
      ]
    },
    {
      "cell_type": "code",
      "execution_count": 14,
      "metadata": {
        "id": "HEEmAEXEm_47",
        "outputId": "98ec4f24-ac8b-450c-9e34-2637eedb1ec0"
      },
      "outputs": [
        {
          "data": {
            "text/html": [
              "<div>\n",
              "<style scoped>\n",
              "    .dataframe tbody tr th:only-of-type {\n",
              "        vertical-align: middle;\n",
              "    }\n",
              "\n",
              "    .dataframe tbody tr th {\n",
              "        vertical-align: top;\n",
              "    }\n",
              "\n",
              "    .dataframe thead th {\n",
              "        text-align: right;\n",
              "    }\n",
              "</style>\n",
              "<table border=\"1\" class=\"dataframe\">\n",
              "  <thead>\n",
              "    <tr style=\"text-align: right;\">\n",
              "      <th></th>\n",
              "      <th>Date</th>\n",
              "      <th>Price</th>\n",
              "      <th>year</th>\n",
              "    </tr>\n",
              "  </thead>\n",
              "  <tbody>\n",
              "    <tr>\n",
              "      <th>0</th>\n",
              "      <td>1987-05-20</td>\n",
              "      <td>18.63</td>\n",
              "      <td>1987</td>\n",
              "    </tr>\n",
              "    <tr>\n",
              "      <th>1</th>\n",
              "      <td>1987-05-21</td>\n",
              "      <td>18.45</td>\n",
              "      <td>1987</td>\n",
              "    </tr>\n",
              "    <tr>\n",
              "      <th>2</th>\n",
              "      <td>1987-05-22</td>\n",
              "      <td>18.55</td>\n",
              "      <td>1987</td>\n",
              "    </tr>\n",
              "    <tr>\n",
              "      <th>3</th>\n",
              "      <td>1987-05-25</td>\n",
              "      <td>18.60</td>\n",
              "      <td>1987</td>\n",
              "    </tr>\n",
              "    <tr>\n",
              "      <th>4</th>\n",
              "      <td>1987-05-26</td>\n",
              "      <td>18.63</td>\n",
              "      <td>1987</td>\n",
              "    </tr>\n",
              "    <tr>\n",
              "      <th>5</th>\n",
              "      <td>1987-05-27</td>\n",
              "      <td>18.60</td>\n",
              "      <td>1987</td>\n",
              "    </tr>\n",
              "    <tr>\n",
              "      <th>6</th>\n",
              "      <td>1987-05-28</td>\n",
              "      <td>18.60</td>\n",
              "      <td>1987</td>\n",
              "    </tr>\n",
              "    <tr>\n",
              "      <th>7</th>\n",
              "      <td>1987-05-29</td>\n",
              "      <td>18.58</td>\n",
              "      <td>1987</td>\n",
              "    </tr>\n",
              "    <tr>\n",
              "      <th>8</th>\n",
              "      <td>1987-06-01</td>\n",
              "      <td>18.65</td>\n",
              "      <td>1987</td>\n",
              "    </tr>\n",
              "    <tr>\n",
              "      <th>9</th>\n",
              "      <td>1987-06-02</td>\n",
              "      <td>18.68</td>\n",
              "      <td>1987</td>\n",
              "    </tr>\n",
              "  </tbody>\n",
              "</table>\n",
              "</div>"
            ],
            "text/plain": [
              "        Date  Price  year\n",
              "0 1987-05-20  18.63  1987\n",
              "1 1987-05-21  18.45  1987\n",
              "2 1987-05-22  18.55  1987\n",
              "3 1987-05-25  18.60  1987\n",
              "4 1987-05-26  18.63  1987\n",
              "5 1987-05-27  18.60  1987\n",
              "6 1987-05-28  18.60  1987\n",
              "7 1987-05-29  18.58  1987\n",
              "8 1987-06-01  18.65  1987\n",
              "9 1987-06-02  18.68  1987"
            ]
          },
          "execution_count": 14,
          "metadata": {},
          "output_type": "execute_result"
        }
      ],
      "source": [
        "price_data.head(10)"
      ]
    },
    {
      "cell_type": "markdown",
      "metadata": {
        "id": "GHcsvDPAm_47"
      },
      "source": [
        ">> ## Oil Price Over Time"
      ]
    },
    {
      "cell_type": "code",
      "execution_count": 15,
      "metadata": {
        "id": "VLlaKynlm_47",
        "outputId": "c0fd98fb-34f5-4566-fdbc-2a6a4d3456f6"
      },
      "outputs": [
        {
          "data": {
            "image/png": "[encoded data removed]",
            "text/plain": [
              "<Figure size 1400x700 with 1 Axes>"
            ]
          },
          "metadata": {},
          "output_type": "display_data"
        }
      ],
      "source": [
        "from scripts.plot import priceOverTime\n",
        "priceOverTime(price_data)"
      ]
    },
    {
      "cell_type": "markdown",
      "metadata": {
        "id": "AGclFe35m_47"
      },
      "source": [
        ">> ## Change Point Analysis"
      ]
    },
    {
      "cell_type": "code",
      "execution_count": 16,
      "metadata": {
        "id": "g9W51_02m_47",
        "outputId": "7dbe0bb5-f604-44a9-836e-00bfc4f0e6bb"
      },
      "outputs": [
        {
          "name": "stderr",
          "output_type": "stream",
          "text": [
            "WARNING (pytensor.configdefaults): g++ not available, if using conda: `conda install m2w64-toolchain`\n",
            "WARNING (pytensor.configdefaults): g++ not detected!  PyTensor will be unable to compile C-implementations and will default to Python. Performance may be severely degraded. To remove this warning, set PyTensor flags cxx to an empty string.\n"
          ]
        },
        {
          "ename": "ModuleNotFoundError",
          "evalue": "No module named 'prophet'",
          "output_type": "error",
          "traceback": [
            "\u001b[1;31m---------------------------------------------------------------------------\u001b[0m",
            "\u001b[1;31mModuleNotFoundError\u001b[0m                       Traceback (most recent call last)",
            "Cell \u001b[1;32mIn[16], line 1\u001b[0m\n\u001b[1;32m----> 1\u001b[0m \u001b[38;5;28;01mfrom\u001b[39;00m\u001b[38;5;250m \u001b[39m\u001b[38;5;21;01mscripts\u001b[39;00m\u001b[38;5;21;01m.\u001b[39;00m\u001b[38;5;21;01mchange_point_analysis\u001b[39;00m\u001b[38;5;250m \u001b[39m\u001b[38;5;28;01mimport\u001b[39;00m \u001b[38;5;241m*\u001b[39m\n\u001b[0;32m      2\u001b[0m change_point_analysis(price_data)\n",
            "File \u001b[1;32md:\\week10\\Change_point_analysis_and_statistical_modelling-\\scripts\\change_point_analysis.py:18\u001b[0m\n\u001b[0;32m     16\u001b[0m \u001b[38;5;28;01mfrom\u001b[39;00m\u001b[38;5;250m \u001b[39m\u001b[38;5;21;01mstatsmodels\u001b[39;00m\u001b[38;5;21;01m.\u001b[39;00m\u001b[38;5;21;01mtsa\u001b[39;00m\u001b[38;5;21;01m.\u001b[39;00m\u001b[38;5;21;01marima\u001b[39;00m\u001b[38;5;21;01m.\u001b[39;00m\u001b[38;5;21;01mmodel\u001b[39;00m\u001b[38;5;250m \u001b[39m\u001b[38;5;28;01mimport\u001b[39;00m ARIMA\n\u001b[0;32m     17\u001b[0m \u001b[38;5;28;01mimport\u001b[39;00m\u001b[38;5;250m \u001b[39m\u001b[38;5;21;01mnumpy\u001b[39;00m\u001b[38;5;250m \u001b[39m\u001b[38;5;28;01mas\u001b[39;00m\u001b[38;5;250m \u001b[39m\u001b[38;5;21;01mnp\u001b[39;00m\n\u001b[1;32m---> 18\u001b[0m \u001b[38;5;28;01mfrom\u001b[39;00m\u001b[38;5;250m \u001b[39m\u001b[38;5;21;01mprophet\u001b[39;00m\u001b[38;5;250m \u001b[39m\u001b[38;5;28;01mimport\u001b[39;00m Prophet\n\u001b[0;32m     19\u001b[0m \u001b[38;5;28;01mfrom\u001b[39;00m\u001b[38;5;250m \u001b[39m\u001b[38;5;21;01mtensorflow\u001b[39;00m\u001b[38;5;21;01m.\u001b[39;00m\u001b[38;5;21;01mkeras\u001b[39;00m\u001b[38;5;21;01m.\u001b[39;00m\u001b[38;5;21;01mmodels\u001b[39;00m\u001b[38;5;250m \u001b[39m\u001b[38;5;28;01mimport\u001b[39;00m Sequential\n\u001b[0;32m     20\u001b[0m \u001b[38;5;28;01mfrom\u001b[39;00m\u001b[38;5;250m \u001b[39m\u001b[38;5;21;01mtensorflow\u001b[39;00m\u001b[38;5;21;01m.\u001b[39;00m\u001b[38;5;21;01mkeras\u001b[39;00m\u001b[38;5;21;01m.\u001b[39;00m\u001b[38;5;21;01mlayers\u001b[39;00m\u001b[38;5;250m \u001b[39m\u001b[38;5;28;01mimport\u001b[39;00m LSTM, Dense\n",
            "\u001b[1;31mModuleNotFoundError\u001b[0m: No module named 'prophet'"
          ]
        }
      ],
      "source": [
        "from scripts.change_point_analysis import *\n",
        "change_point_analysis(price_data)"
      ]
    },
    {
      "cell_type": "markdown",
      "metadata": {
        "id": "Rw7pHSxGm_47"
      },
      "source": [
        ">> ## Advanced Analysis and Modelling of Brent Oil Prices"
      ]
    },
    {
      "cell_type": "code",
      "execution_count": null,
      "metadata": {
        "colab": {
          "base_uri": "https://localhost:8080/"
        },
        "id": "hRc8er9i08WA",
        "outputId": "44ba686c-feec-400c-f01a-494ac795137d"
      },
      "outputs": [],
      "source": [
        "# !pip install ruptures"
      ]
    },
    {
      "cell_type": "code",
      "execution_count": null,
      "metadata": {
        "colab": {
          "base_uri": "https://localhost:8080/"
        },
        "id": "N-OHNAY51C1e",
        "outputId": "33cec40f-5580-4067-8562-0a56bbacb43b"
      },
      "outputs": [],
      "source": [
        "# ! pip install pymc3"
      ]
    },
    {
      "cell_type": "code",
      "execution_count": null,
      "metadata": {
        "colab": {
          "base_uri": "https://localhost:8080/",
          "height": 421
        },
        "id": "4xT19XRv1wq8",
        "outputId": "07c88f49-04c3-413a-8df6-fb9cc48a70f0"
      },
      "outputs": [],
      "source": [
        "# # CUSUM method\n",
        "# mean_price = price_data['Price'].mean()\n",
        "# cusum = np.cumsum(price_data['Price'] - mean_price)\n",
        "# plt.figure(figsize=(14, 7))\n",
        "# plt.plot(price_data.index, cusum, label='CUSUM')\n",
        "# plt.axhline(y=0, color='r', linestyle='--')\n",
        "# plt.xlabel('Date')\n",
        "# plt.ylabel('CUSUM Value')\n",
        "# plt.title('CUSUM Analysis')\n",
        "# plt.legend()\n",
        "# plt.show()"
      ]
    },
    {
      "cell_type": "markdown",
      "metadata": {
        "id": "IpEYQkG-m_48"
      },
      "source": [
        "###  Implementing Change Point Detection Using Bayesian Models"
      ]
    },
    {
      "cell_type": "code",
      "execution_count": null,
      "metadata": {
        "colab": {
          "base_uri": "https://localhost:8080/",
          "height": 352,
          "referenced_widgets": [
            "97af2254b9354c51ac2943c2c2f4c94a",
            "b22dcd31ca804ef09b2eeb82deac5b6b"
          ]
        },
        "id": "2bbSi-8Hm_48",
        "outputId": "3957f83b-f05a-4150-9335-4d53b686f376"
      },
      "outputs": [],
      "source": [
        "# # Bayesian Change Point Detection using PyMC3\n",
        "# with pm.Model() as model:\n",
        "#     # Priors\n",
        "#   mean_prior = pm.Normal('mean_prior', mu=mean_price, sigma=10)\n",
        "#   change_point = pm.DiscreteUniform('change_point', lower=0, upper=len(price_data)-1)\n",
        "\n",
        "#     # Likelihood\n",
        "#   likelihood = pm.Normal('likelihood', mu=mean_prior, sigma=10, observed=price_data['Price'])\n",
        "\n",
        "#     # Inference\n",
        "#   trace = pm.sample(1000, tune=1000, cores=2)\n",
        "\n",
        "# # Plot results\n",
        "# pm.plot_posterior(trace)\n",
        "# plt.show()"
      ]
    },
    {
      "cell_type": "code",
      "execution_count": null,
      "metadata": {
        "id": "igGn9r9q3H2l"
      },
      "outputs": [],
      "source": [
        "# def changePointDetection(price_data):\n",
        "#     prices = price_data['Price'].values\n",
        "#     n = len(prices)\n",
        "\n",
        "#     with pm.Model() as model:\n",
        "#         change_point = pm.DiscreteUniform(\"change_point\", lower=0, upper=n)\n",
        "\n",
        "#         mean1 = pm.Normal(\"mean1\", mu=np.mean(prices[:n//2]), sigma=np.std(prices[:n//2]))\n",
        "#         mean2 = pm.Normal(\"mean2\", mu=np.mean(prices[n//2:]), sigma=np.std(prices[n//2:]))\n",
        "#         sigma = pm.HalfNormal(\"sigma\", sigma=10)\n",
        "\n",
        "#         idx = np.arange(n)\n",
        "#         mean = pm.math.switch(idx < change_point, mean1, mean2)\n",
        "#         obs = pm.Normal(\"obs\", mu=mean, sigma=sigma, observed=prices)\n",
        "\n",
        "#         trace = pm.sample(1500, tune=1500, target_accept=0.95, chains=4)\n",
        "\n",
        "#     pm.plot_trace(trace,figsize=(20,20))\n",
        "#     plt.show()\n"
      ]
    },
    {
      "cell_type": "markdown",
      "metadata": {},
      "source": [
        "### Applying Time Series Analysis to Brent Oil Prices\n"
      ]
    },
    {
      "cell_type": "markdown",
      "metadata": {},
      "source": [
        "To detect patterns, trends, and seasonality within Brent oil price data."
      ]
    },
    {
      "cell_type": "markdown",
      "metadata": {},
      "source": [
        "#### The parameters \n",
        "##### p, d, and 𝑞 in an ARIMA model represent the following:\n",
        "##### p: The number of autoregressive (AR) terms. This parameter captures how past values affect the current value.\n",
        "##### d: The order of differencing required to make the time series stationary (removing trends).\n",
        "##### q: The number of moving average (MA) terms. This parameter accounts for past forecast errors."
      ]
    },
    {
      "cell_type": "markdown",
      "metadata": {},
      "source": [
        "### Perform ADF test"
      ]
    },
    {
      "cell_type": "code",
      "execution_count": null,
      "metadata": {},
      "outputs": [
        {
          "name": "stdout",
          "output_type": "stream",
          "text": [
            "ADF Statistic: -1.9938560113924675\n",
            "p-value: 0.28927350489340287\n"
          ]
        }
      ],
      "source": [
        "adf_result = adfuller(price_data['Price'])\n",
        "print('ADF Statistic:', adf_result[0])\n",
        "print('p-value:', adf_result[1])\n",
        "\n",
        "if adf_result[1] > 0.05:\n",
        "    price_data['price_diff'] = price_data['Price'].diff().dropna()"
      ]
    },
    {
      "cell_type": "markdown",
      "metadata": {},
      "source": [
        "### ACF and PACF"
      ]
    },
    {
      "cell_type": "markdown",
      "metadata": {},
      "source": [
        "Autocorrelation (ACF) and Partial Autocorrelation (PACF) Plots:\n",
        "Use ACF and PACF plots to determine suitable values for \n",
        "p and q.\n",
        "ACF plot: Shows how correlated a time series is with its lagged values. Helps in identifying the MA (q) order.\n",
        "PACF plot: Shows the partial correlation of a time series with its lagged values. Helps in identifying the AR (p) order."
      ]
    },
    {
      "cell_type": "code",
      "execution_count": null,
      "metadata": {},
      "outputs": [
        {
          "data": {
            "text/plain": [
              "<Figure size 1200x600 with 0 Axes>"
            ]
          },
          "metadata": {},
          "output_type": "display_data"
        },
        {
          "data": {
            "image/png": "[encoded data removed]",
            "text/plain": [
              "<Figure size 640x480 with 1 Axes>"
            ]
          },
          "metadata": {},
          "output_type": "display_data"
        },
        {
          "data": {
            "text/plain": [
              "<Figure size 1200x600 with 0 Axes>"
            ]
          },
          "metadata": {},
          "output_type": "display_data"
        },
        {
          "data": {
            "image/png": "[encoded data removed]",
            "text/plain": [
              "<Figure size 640x480 with 1 Axes>"
            ]
          },
          "metadata": {},
          "output_type": "display_data"
        }
      ],
      "source": [
        "from scripts.change_point_analysis import autoCorrAndPartialAutoCorr\n",
        "autoCorrAndPartialAutoCorr(price_data)"
      ]
    },
    {
      "cell_type": "markdown",
      "metadata": {},
      "source": [
        "##### p=1 (based on PACF plot),\n",
        "##### d=1 (data was non-stationary),\n",
        "##### q=1 (based on ACF plot),"
      ]
    },
    {
      "cell_type": "markdown",
      "metadata": {},
      "source": [
        ">> ## ARIMA model trend analysis"
      ]
    },
    {
      "cell_type": "code",
      "execution_count": 19,
      "metadata": {},
      "outputs": [],
      "source": [
        "train_size = int(len(price_data) * 0.8)\n",
        "train, test = price_data[:train_size], price_data[train_size:]"
      ]
    },
    {
      "cell_type": "code",
      "execution_count": 20,
      "metadata": {},
      "outputs": [
        {
          "name": "stdout",
          "output_type": "stream",
          "text": [
            "                               SARIMAX Results                                \n",
            "==============================================================================\n",
            "Dep. Variable:                  Price   No. Observations:                 9011\n",
            "Model:                 ARIMA(1, 1, 1)   Log Likelihood              -14543.950\n",
            "Date:                Fri, 21 Feb 2025   AIC                          29093.899\n",
            "Time:                        19:05:50   BIC                          29115.218\n",
            "Sample:                             0   HQIC                         29101.153\n",
            "                               - 9011                                         \n",
            "Covariance Type:                  opg                                         \n",
            "==============================================================================\n",
            "                 coef    std err          z      P>|z|      [0.025      0.975]\n",
            "------------------------------------------------------------------------------\n",
            "ar.L1         -0.3427      0.159     -2.152      0.031      -0.655      -0.031\n",
            "ma.L1          0.3712      0.157      2.358      0.018       0.063       0.680\n",
            "sigma2         1.4777      0.008    184.571      0.000       1.462       1.493\n",
            "===================================================================================\n",
            "Ljung-Box (L1) (Q):                   0.06   Jarque-Bera (JB):             68889.38\n",
            "Prob(Q):                              0.80   Prob(JB):                         0.00\n",
            "Heteroskedasticity (H):              11.13   Skew:                            -0.68\n",
            "Prob(H) (two-sided):                  0.00   Kurtosis:                        16.48\n",
            "===================================================================================\n",
            "\n",
            "Warnings:\n",
            "[1] Covariance matrix calculated using the outer product of gradients (complex-step).\n"
          ]
        }
      ],
      "source": [
        "from statsmodels.tsa.arima.model import ARIMA\n",
        "from scripts.change_point_analysis import arimaModel\n",
        "arima_forecast = arimaModel(price_data,test)\n"
      ]
    }
  ],
  "metadata": {
    "colab": {
      "gpuType": "T4",
      "provenance": []
    },
    "kernelspec": {
      "display_name": "Python 3",
      "name": "python3"
    },
    "language_info": {
      "codemirror_mode": {
        "name": "ipython",
        "version": 3
      },
      "file_extension": ".py",
      "mimetype": "text/x-python",
      "name": "python",
      "nbconvert_exporter": "python",
      "pygments_lexer": "ipython3",
      "version": "3.11.2"
    },
    "widgets": {
      "application/vnd.jupyter.widget-state+json": {
        "97af2254b9354c51ac2943c2c2f4c94a": {
          "model_module": "@jupyter-widgets/output",
          "model_module_version": "1.0.0",
          "model_name": "OutputModel",
          "state": {
            "_dom_classes": [],
            "_model_module": "@jupyter-widgets/output",
            "_model_module_version": "1.0.0",
            "_model_name": "OutputModel",
            "_view_count": null,
            "_view_module": "@jupyter-widgets/output",
            "_view_module_version": "1.0.0",
            "_view_name": "OutputView",
            "layout": "IPY_MODEL_b22dcd31ca804ef09b2eeb82deac5b6b",
            "msg_id": "",
            "outputs": [
              {
                "data": {
                  "text/html": "<pre style=\"white-space:pre;overflow-x:auto;line-height:normal;font-family:Menlo,'DejaVu Sans Mono',consolas,'Courier New',monospace\">Sampling 2 chains, 0 divergences <span style=\"color: #008000; text-decoration-color: #008000\">━━━━━━━━━━━━━━━━━━━━━━━━━━━━━━━━━━━━━━━━</span> <span style=\"color: #800080; text-decoration-color: #800080\">100%</span> <span style=\"color: #008080; text-decoration-color: #008080\">0:00:00</span> / <span style=\"color: #808000; text-decoration-color: #808000\">0:00:03</span>\n</pre>\n",
                  "text/plain": "Sampling 2 chains, 0 divergences \u001b[32m━━━━━━━━━━━━━━━━━━━━━━━━━━━━━━━━━━━━━━━━\u001b[0m \u001b[35m100%\u001b[0m \u001b[36m0:00:00\u001b[0m / \u001b[33m0:00:03\u001b[0m\n"
                },
                "metadata": {},
                "output_type": "display_data"
              }
            ]
          }
        },
        "b22dcd31ca804ef09b2eeb82deac5b6b": {
          "model_module": "@jupyter-widgets/base",
          "model_module_version": "1.2.0",
          "model_name": "LayoutModel",
          "state": {
            "_model_module": "@jupyter-widgets/base",
            "_model_module_version": "1.2.0",
            "_model_name": "LayoutModel",
            "_view_count": null,
            "_view_module": "@jupyter-widgets/base",
            "_view_module_version": "1.2.0",
            "_view_name": "LayoutView",
            "align_content": null,
            "align_items": null,
            "align_self": null,
            "border": null,
            "bottom": null,
            "display": null,
            "flex": null,
            "flex_flow": null,
            "grid_area": null,
            "grid_auto_columns": null,
            "grid_auto_flow": null,
            "grid_auto_rows": null,
            "grid_column": null,
            "grid_gap": null,
            "grid_row": null,
            "grid_template_areas": null,
            "grid_template_columns": null,
            "grid_template_rows": null,
            "height": null,
            "justify_content": null,
            "justify_items": null,
            "left": null,
            "margin": null,
            "max_height": null,
            "max_width": null,
            "min_height": null,
            "min_width": null,
            "object_fit": null,
            "object_position": null,
            "order": null,
            "overflow": null,
            "overflow_x": null,
            "overflow_y": null,
            "padding": null,
            "right": null,
            "top": null,
            "visibility": null,
            "width": null
          }
        }
      }
    }
  },
  "nbformat": 4,
  "nbformat_minor": 0
}
